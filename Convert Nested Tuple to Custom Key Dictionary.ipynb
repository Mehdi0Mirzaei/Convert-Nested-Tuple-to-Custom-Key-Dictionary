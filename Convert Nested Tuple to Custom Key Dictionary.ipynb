{
 "cells": [
  {
   "cell_type": "code",
   "execution_count": 42,
   "id": "a6e32ff0",
   "metadata": {},
   "outputs": [
    {
     "name": "stdout",
     "output_type": "stream",
     "text": [
      "The original tuple : ((4, 'Gfg', 10), (3, 'is', 8), (6, 'Best', 10))\n",
      "The converted dictionary : [{'key': 4, 'value': 'Gfg', 'id': 10}, {'key': 3, 'value': 'is', 'id': 8}, {'key': 6, 'value': 'Best', 'id': 10}]\n"
     ]
    }
   ],
   "source": [
    "# initializing tuple \n",
    "test_tuple = ((4, 'Gfg', 10), (3, 'is', 8), (6, 'Best', 10)) \n",
    " \n",
    "# printing original tuple \n",
    "print(\"The original tuple : \" + str(test_tuple)) \n",
    " \n",
    "# Convert Nested Tuple to Custom Key Dictionary \n",
    "# Using list comprehension + dictionary comprehension \n",
    "res = [{'key': sub[0], 'value': sub[1], 'id': sub[2]} \n",
    "                            for sub in test_tuple] \n",
    " \n",
    "# printing result \n",
    "print(\"The converted dictionary : \" + str(res))"
   ]
  },
  {
   "cell_type": "code",
   "execution_count": 43,
   "id": "ce8c00e4",
   "metadata": {},
   "outputs": [
    {
     "name": "stdout",
     "output_type": "stream",
     "text": [
      "The original tuple : ((4, 'Gfg', 10), (3, 'is', 8), (6, 'Best', 10))\n",
      "The converted dictionary : [{'key': 4, 'value': 'Gfg', 'id': 10}, {'key': 3, 'value': 'is', 'id': 8}, {'key': 6, 'value': 'Best', 'id': 10}]\n"
     ]
    }
   ],
   "source": [
    "# initializing tuple \n",
    "test_tuple = ((4, 'Gfg', 10), (3, 'is', 8), (6, 'Best', 10)) \n",
    " \n",
    "# printing original tuple \n",
    "print(\"The original tuple : \" + str(test_tuple)) \n",
    " \n",
    "# initializing Keys \n",
    "keys = ['key', 'value', 'id'] \n",
    " \n",
    "# Convert Nested Tuple to Custom Key Dictionary \n",
    "# Using zip() + list comprehension \n",
    "res = [{key: val for key, val in zip(keys, sub)} \n",
    "                        for sub in test_tuple] \n",
    " \n",
    "# printing result \n",
    "print(\"The converted dictionary : \" + str(res))"
   ]
  },
  {
   "cell_type": "code",
   "execution_count": 44,
   "id": "b34d0d13",
   "metadata": {},
   "outputs": [
    {
     "name": "stdout",
     "output_type": "stream",
     "text": [
      "The converted dictionary : [{'key': 4, 'value': 'Gfg', 'id': 10}, {'key': 3, 'value': 'is', 'id': 8}, {'key': 6, 'value': 'Best', 'id': 10}]\n"
     ]
    }
   ],
   "source": [
    "# initializing tuple \n",
    "test_tuple = ((4, 'Gfg', 10), (3, 'is', 8), (6, 'Best', 10)) \n",
    " \n",
    "# initializing keys \n",
    "keys = ['key', 'value', 'id']\n",
    " \n",
    "# initializing result dictionary\n",
    "res = []\n",
    " \n",
    "# iterate over the tuple and construct the dictionary\n",
    "for sub in test_tuple:\n",
    "    sub_dict = {}\n",
    "    for i in range(len(keys)):\n",
    "        sub_dict[keys[i]] = sub[i]\n",
    "    res.append(sub_dict)\n",
    " # printing result \n",
    "print(\"The converted dictionary : \" + str(res)) "
   ]
  },
  {
   "cell_type": "code",
   "execution_count": null,
   "id": "3d8f57e1",
   "metadata": {},
   "outputs": [],
   "source": []
  }
 ],
 "metadata": {
  "kernelspec": {
   "display_name": "Python 3 (ipykernel)",
   "language": "python",
   "name": "python3"
  },
  "language_info": {
   "codemirror_mode": {
    "name": "ipython",
    "version": 3
   },
   "file_extension": ".py",
   "mimetype": "text/x-python",
   "name": "python",
   "nbconvert_exporter": "python",
   "pygments_lexer": "ipython3",
   "version": "3.9.13"
  }
 },
 "nbformat": 4,
 "nbformat_minor": 5
}
